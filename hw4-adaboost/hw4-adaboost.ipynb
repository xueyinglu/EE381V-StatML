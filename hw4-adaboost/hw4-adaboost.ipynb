{
 "cells": [
  {
   "cell_type": "markdown",
   "metadata": {},
   "source": [
    "# Classification of email spam"
   ]
  },
  {
   "cell_type": "code",
   "execution_count": 1,
   "metadata": {},
   "outputs": [],
   "source": [
    "import numpy as np\n",
    "import numpy.linalg as la\n",
    "import matplotlib.pyplot as plt\n",
    "import scipy.io as sio\n",
    "import time\n",
    "data = sio.loadmat('spamData.mat')"
   ]
  },
  {
   "cell_type": "markdown",
   "metadata": {},
   "source": [
    "## Adaboost"
   ]
  },
  {
   "cell_type": "code",
   "execution_count": 2,
   "metadata": {},
   "outputs": [],
   "source": [
    "def accuracy(predicted_result, actual_result):\n",
    "    diff = predicted_result - actual_result\n",
    "    return 1.0 - (float(np.count_nonzero(diff)) / len(diff))"
   ]
  },
  {
   "cell_type": "code",
   "execution_count": 3,
   "metadata": {},
   "outputs": [],
   "source": [
    "def decesion_stumps(X,y,D):\n",
    "    # Here the decesion stump is for x_i>b, different from textbook!\n",
    "    n_samples, n_features =X.shape\n",
    "    F_ast = float('inf')\n",
    "    for j in range(n_features):\n",
    "        feature_values = X[:, j]\n",
    "        # dict ={feature_values[i]:(y[i], D[i]) for i in range(n_samples)}\n",
    "        sorted_features = sorted([(feature_i, y_i, D_i) for feature_i, y_i, D_i in \\\n",
    "                                  zip(feature_values, y, D)])\n",
    "        F = np.sum(D*((-y+1)/2), axis =0,  keepdims = False) # different from textbook!\n",
    "\n",
    "        if F<F_ast:\n",
    "            F_ast = F.copy()\n",
    "            theta = sorted_features[0][0] - 1\n",
    "            j_ast = j\n",
    "        for i in range(len(sorted_features)-1):\n",
    "\n",
    "            feature_i, y_i ,D_i =sorted_features[i]\n",
    "\n",
    "            F += (-D_i if y_i==-1 else D_i) # different from textbook!\n",
    "            if F < F_ast and (feature_i != sorted_features[i+1][0]):\n",
    "                F_ast =F.copy()\n",
    "                theta = 0.5 *(feature_i + sorted_features[i+1][0])\n",
    "                j_ast = j\n",
    "    \n",
    "    return j_ast, theta"
   ]
  },
  {
   "cell_type": "code",
   "execution_count": 4,
   "metadata": {},
   "outputs": [],
   "source": [
    "def adaboost(Xtrain,ytrain,Xtest,ytest, T):\n",
    "    n_samples, n_features =Xtrain.shape\n",
    "    n_samples_test, n_features = Xtest.shape\n",
    "    adaboost_train = []\n",
    "    adaboost_test =  []\n",
    "    weights = []\n",
    "    err_train = []\n",
    "    err_test = []\n",
    "\n",
    "    D = 1.0/n_samples * np.ones([n_samples,1])\n",
    "    for t in range(T):\n",
    "        j, theta = decesion_stumps(Xtrain,ytrain,D)\n",
    "        # print(\"theta = {}\".format(theta))\n",
    "        # print(\"j = {}\".format(j))\n",
    "        wl_train = list(map(lambda x: 1 if x > theta else -1 , Xtrain[:, j]))\n",
    "        adaboost_train.append(wl_train)\n",
    "    \n",
    "        wl_test = list(map(lambda x: 1 if x > theta else -1, Xtest[:, j]))\n",
    "        adaboost_test.append(wl_test)\n",
    "        mistakes_train = [ 0 if wl_train[i] == ytrain[i] else 1 for i in range(len(ytrain))]\n",
    "        eps = np.sum(D*(np.array(mistakes_train).reshape([n_samples,1])) )\n",
    "        w = 0.5*np.log(1.0/eps-1)\n",
    "        weights = np.append(weights, w)\n",
    "        test = -w*ytrain*np.array(wl_train).reshape(n_samples,1)\n",
    "        D = D *np.exp(-w*ytrain*np.array(wl_train).reshape(n_samples,1))\n",
    "        D/= np.sum(D, keepdims=False)\n",
    "        if (t%100 == 0):\n",
    "           \n",
    "            predict_train = np.sign(np.sum(np.array(adaboost_train)* \\\n",
    "                                           (np.array(weights).reshape([len(weights),1])) ,\\\n",
    "                                           axis =0)).reshape([n_samples,1])\n",
    "\n",
    "          \n",
    "            err_train.append(1.0 - accuracy(predict_train, ytrain))\n",
    "            predict_test = np.sign(np.sum(np.array(adaboost_test)* \\\n",
    "                                          (np.array(weights).reshape([len(weights),1])) , \\\n",
    "                                          axis =0)).reshape([ n_samples_test, 1])\n",
    "            err_test.append(1.0 - accuracy(predict_test, ytest))\n",
    "            print(\"iter: {}, training misclassification: {}\".format(str(t), err_train[-1]))\n",
    "            print(\"iter: {}, test misclassification: {}\".format(str(t), err_test[-1]))\n",
    "            print(\"theta = {}\".format(theta))\n",
    "            print(\"j = {}\".format(j))\n",
    "            print(\"w = {}\".format(w))\n",
    "    return err_train, err_test"
   ]
  },
  {
   "cell_type": "code",
   "execution_count": 5,
   "metadata": {
    "scrolled": true
   },
   "outputs": [
    {
     "name": "stderr",
     "output_type": "stream",
     "text": [
      "/Users/xueying/anaconda3/lib/python3.7/site-packages/ipykernel_launcher.py:8: DeprecationWarning: time.clock has been deprecated in Python 3.3 and will be removed from Python 3.8: use time.perf_counter or time.process_time instead\n",
      "  \n"
     ]
    },
    {
     "name": "stdout",
     "output_type": "stream",
     "text": [
      "iter: 0, training misclassification: 0.20130505709624802\n",
      "iter: 0, test misclassification: 0.21419270833333337\n",
      "theta = 0.0455\n",
      "j = 52\n",
      "w = 0.6890788098634144\n",
      "iter: 100, training misclassification: 0.100489396411093\n",
      "iter: 100, test misclassification: 0.10611979166666663\n",
      "theta = 1.5\n",
      "j = 56\n",
      "w = 0.028282006745164026\n",
      "iter: 200, training misclassification: 0.09755301794453508\n",
      "iter: 200, test misclassification: 0.103515625\n",
      "theta = 1.5\n",
      "j = 56\n",
      "w = 0.020345220407118617\n",
      "iter: 300, training misclassification: 0.09168026101141924\n",
      "iter: 300, test misclassification: 0.10416666666666663\n",
      "theta = 1.5\n",
      "j = 56\n",
      "w = 0.015956185505731284\n",
      "iter: 400, training misclassification: 0.0907014681892333\n",
      "iter: 400, test misclassification: 0.1015625\n",
      "theta = 1.5\n",
      "j = 56\n",
      "w = 0.013653288687828469\n",
      "iter: 500, training misclassification: 0.08711256117455135\n",
      "iter: 500, test misclassification: 0.09765625\n",
      "theta = 1.5\n",
      "j = 56\n",
      "w = 0.011818891679444658\n",
      "iter: 600, training misclassification: 0.08613376835236541\n",
      "iter: 600, test misclassification: 0.09635416666666663\n",
      "theta = 1.5\n",
      "j = 56\n",
      "w = 0.01058181419479996\n",
      "iter: 700, training misclassification: 0.0854812398042415\n",
      "iter: 700, test misclassification: 0.09375\n",
      "theta = 1.5\n",
      "j = 56\n",
      "w = 0.009729257979476467\n",
      "iter: 800, training misclassification: 0.08515497553017948\n",
      "iter: 800, test misclassification: 0.09440104166666663\n",
      "theta = 1.5\n",
      "j = 56\n",
      "w = 0.00901214154147425\n",
      "iter: 900, training misclassification: 0.08515497553017948\n",
      "iter: 900, test misclassification: 0.09505208333333337\n",
      "theta = 1.5\n",
      "j = 56\n",
      "w = 0.008046437491033065\n",
      "Training elasped time = 2169.621177\n"
     ]
    },
    {
     "name": "stderr",
     "output_type": "stream",
     "text": [
      "/Users/xueying/anaconda3/lib/python3.7/site-packages/ipykernel_launcher.py:10: DeprecationWarning: time.clock has been deprecated in Python 3.3 and will be removed from Python 3.8: use time.perf_counter or time.process_time instead\n",
      "  # Remove the CWD from sys.path while we load stuff.\n"
     ]
    }
   ],
   "source": [
    "Xtrain = data['Xtrain']\n",
    "ytrain = data['ytrain']\n",
    "Xtest = data['Xtest']\n",
    "ytest = data['ytest']\n",
    "\n",
    "ytrain = np.int8(ytrain)*2-1\n",
    "ytest = np.int8(ytest)*2-1\n",
    "time_start = time.clock()\n",
    "err_train, err_test = adaboost(Xtrain,ytrain,Xtest,ytest, T=1000)\n",
    "time_adaboost = (time.clock() - time_start)\n",
    "print(\"Training elasped time = {}\".format(time_adaboost))"
   ]
  },
  {
   "cell_type": "markdown",
   "metadata": {},
   "source": [
    "## Logistic Regression"
   ]
  },
  {
   "cell_type": "code",
   "execution_count": 6,
   "metadata": {},
   "outputs": [],
   "source": [
    "def logreg_loss(w, X, y):\n",
    "    [m,n]=X.shape\n",
    "    loss = np.sum(np.log(np.exp(- np.dot(X,w)*y)+1))/m\n",
    "    return loss"
   ]
  },
  {
   "cell_type": "code",
   "execution_count": 7,
   "metadata": {},
   "outputs": [],
   "source": [
    "def logreg_grad(w, X, y):\n",
    "    [m,n]=X.shape\n",
    "    numerator = X*y\n",
    "    denominator = np.exp(np.dot(X,w)*y)+1\n",
    "    #print(denominator)\n",
    "    grad = - np.sum(numerator/denominator, axis = 0)/m\n",
    "    grad.reshape((n,1))\n",
    "    return grad.reshape((n,1))"
   ]
  },
  {
   "cell_type": "code",
   "execution_count": 8,
   "metadata": {},
   "outputs": [],
   "source": [
    "def sigmoid(z):\n",
    "    return 1.0/(1+np.exp(-z))"
   ]
  },
  {
   "cell_type": "code",
   "execution_count": 9,
   "metadata": {},
   "outputs": [],
   "source": [
    "def predict(X, w):\n",
    "    z = np.dot(X, w)\n",
    "    return sigmoid(z)"
   ]
  },
  {
   "cell_type": "code",
   "execution_count": 10,
   "metadata": {},
   "outputs": [],
   "source": [
    "def accuracy(predicted_result, actual_result):\n",
    "    diff = predicted_result - actual_result\n",
    "    return 1.0 - (float(np.count_nonzero(diff)) / len(diff))"
   ]
  },
  {
   "cell_type": "code",
   "execution_count": 11,
   "metadata": {},
   "outputs": [],
   "source": [
    "def classify(predictions):\n",
    "    return np.vectorize(lambda prob: 1 if prob >= .5 else -1)(predictions)"
   ]
  },
  {
   "cell_type": "code",
   "execution_count": 12,
   "metadata": {},
   "outputs": [],
   "source": [
    "def misclassification(w, X, y):\n",
    "    [m,n]=X.shape\n",
    "    prediction = predict(X, w)\n",
    "    results = classify(prediction)\n",
    "    return 1 - accuracy(results, y)"
   ]
  },
  {
   "cell_type": "code",
   "execution_count": 13,
   "metadata": {},
   "outputs": [],
   "source": [
    "def logistic_regression(Xtrain, ytrain, Xtest, ytest, T, eta):\n",
    "    [m,n] =Xtrain.shape\n",
    "    w =np.zeros((n,1))\n",
    "    mis_train =[]\n",
    "    mis_test =[]\n",
    "    for t in range(T):\n",
    "        grad = logreg_grad(w, Xtrain, ytrain)\n",
    "        #print(grad)\n",
    "        w = w - eta*grad\n",
    "        if (t%100 == 0):\n",
    "            mis_train.append(misclassification(w, Xtrain, ytrain))\n",
    "            mis_test.append(misclassification(w, Xtest, ytest))\n",
    "            print(\"iter: {}, training misclassification: {}\".format(str(t), mis_train[-1]))\n",
    "            print(\"iter: {}, test misclassification: {}\".format(str(t), mis_test[-1]))\n",
    "    return mis_train, mis_test"
   ]
  },
  {
   "cell_type": "code",
   "execution_count": 14,
   "metadata": {},
   "outputs": [
    {
     "name": "stderr",
     "output_type": "stream",
     "text": [
      "/Users/xueying/anaconda3/lib/python3.7/site-packages/ipykernel_launcher.py:13: DeprecationWarning: time.clock has been deprecated in Python 3.3 and will be removed from Python 3.8: use time.perf_counter or time.process_time instead\n",
      "  del sys.path[0]\n"
     ]
    },
    {
     "name": "stdout",
     "output_type": "stream",
     "text": [
      "iter: 0, training misclassification: 0.397389885807504\n",
      "iter: 0, test misclassification: 0.38736979166666674\n",
      "iter: 100, training misclassification: 0.10244698205546499\n",
      "iter: 100, test misclassification: 0.115234375\n",
      "iter: 200, training misclassification: 0.09461663947797716\n",
      "iter: 200, test misclassification: 0.10546875\n",
      "iter: 300, training misclassification: 0.08874388254486132\n",
      "iter: 300, test misclassification: 0.09830729166666663\n",
      "iter: 400, training misclassification: 0.08482871125611746\n",
      "iter: 400, test misclassification: 0.095703125\n",
      "iter: 500, training misclassification: 0.08156606851549753\n",
      "iter: 500, test misclassification: 0.09505208333333337\n",
      "iter: 600, training misclassification: 0.07960848287112565\n",
      "iter: 600, test misclassification: 0.09244791666666663\n",
      "iter: 700, training misclassification: 0.07667210440456773\n",
      "iter: 700, test misclassification: 0.087890625\n",
      "iter: 800, training misclassification: 0.07275693311582376\n",
      "iter: 800, test misclassification: 0.08268229166666663\n",
      "iter: 900, training misclassification: 0.07210440456769984\n",
      "iter: 900, test misclassification: 0.07877604166666663\n",
      "Training elasped time = 1.283860999999888\n"
     ]
    },
    {
     "name": "stderr",
     "output_type": "stream",
     "text": [
      "/Users/xueying/anaconda3/lib/python3.7/site-packages/ipykernel_launcher.py:15: DeprecationWarning: time.clock has been deprecated in Python 3.3 and will be removed from Python 3.8: use time.perf_counter or time.process_time instead\n",
      "  from ipykernel import kernelapp as app\n"
     ]
    }
   ],
   "source": [
    "Xtrain = data['Xtrain']\n",
    "ytrain = data['ytrain']\n",
    "Xtest = data['Xtest']\n",
    "ytest = data['ytest']\n",
    "Xtrain = np.log(Xtrain +0.1)\n",
    "Xtest = np.log(Xtest +0.1)\n",
    "ytrain = np.int8(ytrain)*2-1\n",
    "ytest = np.int8(ytest)*2-1\n",
    "[mtrain, n] = Xtrain.shape\n",
    "[mtest, n]= Xtest.shape\n",
    "Xtrain = np.insert(Xtrain,[0], np.ones((mtrain,1)),axis = 1)\n",
    "Xtest = np.insert(Xtest,[0], np.ones((mtest,1)),axis = 1)\n",
    "time_start = time.perf_counter()\n",
    "mis_train,mis_test = logistic_regression(Xtrain, ytrain, Xtest, ytest, 1000, 0.01)\n",
    "time_logreg = (time.perf_counter() - time_start)\n",
    "print(\"Training elasped time = {}\".format(time_logreg))"
   ]
  },
  {
   "cell_type": "markdown",
   "metadata": {},
   "source": [
    "# Results comparison"
   ]
  },
  {
   "cell_type": "code",
   "execution_count": 15,
   "metadata": {},
   "outputs": [
    {
     "data": {
      "image/png": "[encoded data removed]",
      "text/plain": [
       "<Figure size 432x288 with 1 Axes>"
      ]
     },
     "metadata": {
      "needs_background": "light"
     },
     "output_type": "display_data"
    }
   ],
   "source": [
    "%matplotlib inline\n",
    "fig=plt.figure()\n",
    "plt.semilogy([100*t for t in range(10)], err_train, label='Adaboost training misclassification rate')\n",
    "plt.semilogy([100*t for t in range(10)], err_test,  label='Adaboost test misclassification rate')\n",
    "plt.semilogy([100*t for t in range(10)], mis_train, label='LogReg training misclassification rate')\n",
    "plt.semilogy([100*t for t in range(10)], mis_test,  label='LogReg test misclassification rate')\n",
    "plt.legend()\n",
    "plt.xlabel('iterations')\n",
    "plt.ylabel('error')\n",
    "plt.show()"
   ]
  },
  {
   "cell_type": "markdown",
   "metadata": {},
   "source": [
    "The training of Adaboost with 1000 iterations took 2169s, while training with Logistic Regresison only took 1.28s. Logistic regression also achieve better accuracy on both training and testing data sets. Further study on how to speedup Adaboost, and improve its convergence are interesting to investigate."
   ]
  },
  {
   "cell_type": "code",
   "execution_count": null,
   "metadata": {},
   "outputs": [],
   "source": []
  }
 ],
 "metadata": {
  "kernelspec": {
   "display_name": "Python 3",
   "language": "python",
   "name": "python3"
  },
  "language_info": {
   "codemirror_mode": {
    "name": "ipython",
    "version": 3
   },
   "file_extension": ".py",
   "mimetype": "text/x-python",
   "name": "python",
   "nbconvert_exporter": "python",
   "pygments_lexer": "ipython3",
   "version": "3.7.2"
  }
 },
 "nbformat": 4,
 "nbformat_minor": 2
}
