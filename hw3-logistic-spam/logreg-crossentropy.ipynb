{
 "cells": [
  {
   "cell_type": "markdown",
   "metadata": {},
   "source": [
    "## Logistic regression with cross-entropy loss function\n",
    "In this notebook we build logistic regression with cross entropy loss functions, and $y\\in\\{1,0\\}$"
   ]
  },
  {
   "cell_type": "code",
   "execution_count": 1,
   "metadata": {},
   "outputs": [],
   "source": [
    "import numpy as np\n",
    "import numpy.linalg as la\n",
    "import matplotlib.pyplot as plt\n",
    "import scipy.io as sio\n",
    "data = sio.loadmat('spamData.mat')"
   ]
  },
  {
   "cell_type": "code",
   "execution_count": 2,
   "metadata": {},
   "outputs": [],
   "source": [
    "def sigmoid(z):\n",
    "    return 1.0/(1+np.exp(-z))"
   ]
  },
  {
   "cell_type": "code",
   "execution_count": 3,
   "metadata": {},
   "outputs": [],
   "source": [
    "def predict(X, w):\n",
    "    z = np.dot(X, w)\n",
    "    return sigmoid(z)"
   ]
  },
  {
   "cell_type": "code",
   "execution_count": 4,
   "metadata": {},
   "outputs": [],
   "source": [
    "def grad(w, X, y):\n",
    "    N = len(X)\n",
    "    predictions = predict(X, w)\n",
    "    gradient = np.dot(X.T,  predictions - y)\n",
    "    gradient /= N\n",
    "    return gradient"
   ]
  },
  {
   "cell_type": "code",
   "execution_count": 5,
   "metadata": {},
   "outputs": [],
   "source": [
    "def classify(predictions):\n",
    "    return np.vectorize(lambda prob: 1 if prob >= .5 else 0)(predictions)"
   ]
  },
  {
   "cell_type": "code",
   "execution_count": 6,
   "metadata": {},
   "outputs": [],
   "source": [
    "def accuracy(predicted_result, actual_result):\n",
    "    diff = predicted_result - actual_result\n",
    "    return 1.0 - (float(np.count_nonzero(diff)) / len(diff))"
   ]
  },
  {
   "cell_type": "code",
   "execution_count": 7,
   "metadata": {},
   "outputs": [],
   "source": [
    "def misclassification(w, X, y):\n",
    "    [m,n]=X.shape\n",
    "    prediction = predict(X, w)\n",
    "    results = classify(prediction)\n",
    "    return 1 - accuracy(results, y)"
   ]
  },
  {
   "cell_type": "code",
   "execution_count": 8,
   "metadata": {},
   "outputs": [],
   "source": [
    "def train(Xtrain, ytrain, Xtest, ytest, w, eta, iters):\n",
    "    mis_classification_train = []\n",
    "    mis_classification_test = []\n",
    "\n",
    "    for i in range(iters):\n",
    "        w -= grad(w, Xtrain, ytrain) * eta\n",
    "        \n",
    "        if i % 10 == 0:\n",
    "            mis_train = misclassification(w, Xtrain, ytrain)\n",
    "            mis_classification_train.append(mis_train)\n",
    "            mis_test = misclassification(w, Xtest, ytest)\n",
    "            mis_classification_test.append(mis_test)\n",
    "            print(\"iter: {}, training misclassification: {}\".format(str(i), str(mis_train)))\n",
    "            print(\"iter: {}, test misclassification: {}\".format(str(i), str(mis_test)))\n",
    "\n",
    "    return w, mis_classification_train, mis_classification_test"
   ]
  },
  {
   "cell_type": "code",
   "execution_count": 9,
   "metadata": {},
   "outputs": [],
   "source": [
    "Xtrain = data['Xtrain']\n",
    "ytrain = data['ytrain']\n",
    "Xtest = data['Xtest']\n",
    "ytest = data['ytest']\n",
    "Xtrain = np.log(Xtrain +0.1)\n",
    "[mtrain, n] = Xtrain.shape\n",
    "Xtrain = np.insert(Xtrain,[0], np.ones((mtrain,1)),axis = 1)\n",
    "[mtest, n] = Xtest.shape\n",
    "Xtest = np.insert(Xtest,[0], np.ones((mtest,1)),axis = 1)\n",
    "Xtest = np.log(Xtest +0.1)"
   ]
  },
  {
   "cell_type": "code",
   "execution_count": 10,
   "metadata": {},
   "outputs": [],
   "source": [
    "[m,n] = Xtrain.shape"
   ]
  },
  {
   "cell_type": "code",
   "execution_count": 11,
   "metadata": {},
   "outputs": [],
   "source": [
    "init_weights = np.zeros((n, 1))"
   ]
  },
  {
   "cell_type": "code",
   "execution_count": 13,
   "metadata": {},
   "outputs": [
    {
     "name": "stdout",
     "output_type": "stream",
     "text": [
      "iter: 0, training misclassification: 0.397389885807504\n",
      "iter: 0, test misclassification: 0.38736979166666674\n",
      "iter: 10, training misclassification: 0.397389885807504\n",
      "iter: 10, test misclassification: 0.38736979166666674\n",
      "iter: 20, training misclassification: 0.2623164763458401\n",
      "iter: 20, test misclassification: 0.24153645833333337\n",
      "iter: 30, training misclassification: 0.10603588907014683\n",
      "iter: 30, test misclassification: 0.11393229166666663\n",
      "iter: 40, training misclassification: 0.09265905383360518\n",
      "iter: 40, test misclassification: 0.10026041666666663\n",
      "iter: 50, training misclassification: 0.08515497553017948\n",
      "iter: 50, test misclassification: 0.09635416666666663\n",
      "iter: 60, training misclassification: 0.08156606851549753\n",
      "iter: 60, test misclassification: 0.09244791666666663\n",
      "iter: 70, training misclassification: 0.07993474714518756\n",
      "iter: 70, test misclassification: 0.091796875\n",
      "iter: 80, training misclassification: 0.07536704730831978\n",
      "iter: 80, test misclassification: 0.0859375\n",
      "iter: 90, training misclassification: 0.07145187601957581\n",
      "iter: 90, test misclassification: 0.08268229166666663\n",
      "iter: 100, training misclassification: 0.07014681892332786\n",
      "iter: 100, test misclassification: 0.078125\n",
      "iter: 110, training misclassification: 0.06753670473083195\n",
      "iter: 110, test misclassification: 0.078125\n",
      "iter: 120, training misclassification: 0.06721044045676994\n",
      "iter: 120, test misclassification: 0.076171875\n",
      "iter: 130, training misclassification: 0.06590538336052199\n",
      "iter: 130, test misclassification: 0.07291666666666663\n",
      "iter: 140, training misclassification: 0.06492659053833605\n",
      "iter: 140, test misclassification: 0.072265625\n",
      "iter: 150, training misclassification: 0.06460032626427403\n",
      "iter: 150, test misclassification: 0.07161458333333337\n",
      "iter: 160, training misclassification: 0.06492659053833605\n",
      "iter: 160, test misclassification: 0.07161458333333337\n",
      "iter: 170, training misclassification: 0.06427406199021202\n",
      "iter: 170, test misclassification: 0.07161458333333337\n",
      "iter: 180, training misclassification: 0.06427406199021202\n",
      "iter: 180, test misclassification: 0.07096354166666663\n",
      "iter: 190, training misclassification: 0.06329526916802608\n",
      "iter: 190, test misclassification: 0.07096354166666663\n",
      "iter: 200, training misclassification: 0.062316476345840144\n",
      "iter: 200, test misclassification: 0.0703125\n",
      "iter: 210, training misclassification: 0.06264274061990216\n",
      "iter: 210, test misclassification: 0.06901041666666663\n",
      "iter: 220, training misclassification: 0.06199021207177813\n",
      "iter: 220, test misclassification: 0.06901041666666663\n",
      "iter: 230, training misclassification: 0.06133768352365421\n",
      "iter: 230, test misclassification: 0.068359375\n",
      "iter: 240, training misclassification: 0.060685154975530176\n",
      "iter: 240, test misclassification: 0.068359375\n",
      "iter: 250, training misclassification: 0.06035889070146816\n",
      "iter: 250, test misclassification: 0.06705729166666663\n",
      "iter: 260, training misclassification: 0.05970636215334424\n",
      "iter: 260, test misclassification: 0.06640625\n",
      "iter: 270, training misclassification: 0.05840130505709629\n",
      "iter: 270, test misclassification: 0.06510416666666663\n",
      "iter: 280, training misclassification: 0.05840130505709629\n",
      "iter: 280, test misclassification: 0.064453125\n",
      "iter: 290, training misclassification: 0.05742251223491024\n",
      "iter: 290, test misclassification: 0.06380208333333337\n",
      "iter: 300, training misclassification: 0.05742251223491024\n",
      "iter: 300, test misclassification: 0.06380208333333337\n",
      "iter: 310, training misclassification: 0.05742251223491024\n",
      "iter: 310, test misclassification: 0.06510416666666663\n",
      "iter: 320, training misclassification: 0.0564437194127243\n",
      "iter: 320, test misclassification: 0.06380208333333337\n",
      "iter: 330, training misclassification: 0.0564437194127243\n",
      "iter: 330, test misclassification: 0.06315104166666663\n",
      "iter: 340, training misclassification: 0.0564437194127243\n",
      "iter: 340, test misclassification: 0.06315104166666663\n",
      "iter: 350, training misclassification: 0.05676998368678632\n",
      "iter: 350, test misclassification: 0.06315104166666663\n",
      "iter: 360, training misclassification: 0.0564437194127243\n",
      "iter: 360, test misclassification: 0.0625\n",
      "iter: 370, training misclassification: 0.05676998368678632\n",
      "iter: 370, test misclassification: 0.06184895833333337\n",
      "iter: 380, training misclassification: 0.05676998368678632\n",
      "iter: 380, test misclassification: 0.06184895833333337\n",
      "iter: 390, training misclassification: 0.05676998368678632\n",
      "iter: 390, test misclassification: 0.0625\n",
      "iter: 400, training misclassification: 0.05579119086460027\n",
      "iter: 400, test misclassification: 0.0625\n",
      "iter: 410, training misclassification: 0.05579119086460027\n",
      "iter: 410, test misclassification: 0.0625\n",
      "iter: 420, training misclassification: 0.055464926590538366\n",
      "iter: 420, test misclassification: 0.06184895833333337\n",
      "iter: 430, training misclassification: 0.05513866231647635\n",
      "iter: 430, test misclassification: 0.06184895833333337\n",
      "iter: 440, training misclassification: 0.05513866231647635\n",
      "iter: 440, test misclassification: 0.06184895833333337\n",
      "iter: 450, training misclassification: 0.05513866231647635\n",
      "iter: 450, test misclassification: 0.06184895833333337\n",
      "iter: 460, training misclassification: 0.054812398042414334\n",
      "iter: 460, test misclassification: 0.06119791666666663\n",
      "iter: 470, training misclassification: 0.05448613376835232\n",
      "iter: 470, test misclassification: 0.06119791666666663\n",
      "iter: 480, training misclassification: 0.05448613376835232\n",
      "iter: 480, test misclassification: 0.06119791666666663\n",
      "iter: 490, training misclassification: 0.05448613376835232\n",
      "iter: 490, test misclassification: 0.06119791666666663\n",
      "iter: 500, training misclassification: 0.05448613376835232\n",
      "iter: 500, test misclassification: 0.060546875\n",
      "iter: 510, training misclassification: 0.05448613376835232\n",
      "iter: 510, test misclassification: 0.05989583333333337\n",
      "iter: 520, training misclassification: 0.054159869494290414\n",
      "iter: 520, test misclassification: 0.05989583333333337\n",
      "iter: 530, training misclassification: 0.054159869494290414\n",
      "iter: 530, test misclassification: 0.05989583333333337\n",
      "iter: 540, training misclassification: 0.054159869494290414\n",
      "iter: 540, test misclassification: 0.05989583333333337\n",
      "iter: 550, training misclassification: 0.0538336052202284\n",
      "iter: 550, test misclassification: 0.05989583333333337\n",
      "iter: 560, training misclassification: 0.0538336052202284\n",
      "iter: 560, test misclassification: 0.05989583333333337\n",
      "iter: 570, training misclassification: 0.0538336052202284\n",
      "iter: 570, test misclassification: 0.05989583333333337\n",
      "iter: 580, training misclassification: 0.0538336052202284\n",
      "iter: 580, test misclassification: 0.05989583333333337\n",
      "iter: 590, training misclassification: 0.0538336052202284\n",
      "iter: 590, test misclassification: 0.05924479166666663\n",
      "iter: 600, training misclassification: 0.0538336052202284\n",
      "iter: 600, test misclassification: 0.05924479166666663\n",
      "iter: 610, training misclassification: 0.0538336052202284\n",
      "iter: 610, test misclassification: 0.05924479166666663\n",
      "iter: 620, training misclassification: 0.0538336052202284\n",
      "iter: 620, test misclassification: 0.05859375\n",
      "iter: 630, training misclassification: 0.054159869494290414\n",
      "iter: 630, test misclassification: 0.05859375\n",
      "iter: 640, training misclassification: 0.05350734094616638\n",
      "iter: 640, test misclassification: 0.05859375\n",
      "iter: 650, training misclassification: 0.05350734094616638\n",
      "iter: 650, test misclassification: 0.05859375\n",
      "iter: 660, training misclassification: 0.05350734094616638\n",
      "iter: 660, test misclassification: 0.05859375\n",
      "iter: 670, training misclassification: 0.05350734094616638\n",
      "iter: 670, test misclassification: 0.05859375\n",
      "iter: 680, training misclassification: 0.05350734094616638\n",
      "iter: 680, test misclassification: 0.05859375\n",
      "iter: 690, training misclassification: 0.05350734094616638\n",
      "iter: 690, test misclassification: 0.05859375\n",
      "iter: 700, training misclassification: 0.05350734094616638\n",
      "iter: 700, test misclassification: 0.05859375\n",
      "iter: 710, training misclassification: 0.05350734094616638\n",
      "iter: 710, test misclassification: 0.05859375\n",
      "iter: 720, training misclassification: 0.0538336052202284\n",
      "iter: 720, test misclassification: 0.05859375\n",
      "iter: 730, training misclassification: 0.0538336052202284\n",
      "iter: 730, test misclassification: 0.05859375\n",
      "iter: 740, training misclassification: 0.05350734094616638\n",
      "iter: 740, test misclassification: 0.05859375\n",
      "iter: 750, training misclassification: 0.05350734094616638\n",
      "iter: 750, test misclassification: 0.05859375\n",
      "iter: 760, training misclassification: 0.053181076672104366\n",
      "iter: 760, test misclassification: 0.05859375\n",
      "iter: 770, training misclassification: 0.05285481239804246\n",
      "iter: 770, test misclassification: 0.05859375\n",
      "iter: 780, training misclassification: 0.05285481239804246\n",
      "iter: 780, test misclassification: 0.05859375\n",
      "iter: 790, training misclassification: 0.05285481239804246\n",
      "iter: 790, test misclassification: 0.05859375\n",
      "iter: 800, training misclassification: 0.05285481239804246\n",
      "iter: 800, test misclassification: 0.05859375\n",
      "iter: 810, training misclassification: 0.053181076672104366\n",
      "iter: 810, test misclassification: 0.05859375\n",
      "iter: 820, training misclassification: 0.053181076672104366\n",
      "iter: 820, test misclassification: 0.05859375\n",
      "iter: 830, training misclassification: 0.053181076672104366\n",
      "iter: 830, test misclassification: 0.05859375\n",
      "iter: 840, training misclassification: 0.05285481239804246\n",
      "iter: 840, test misclassification: 0.05859375\n",
      "iter: 850, training misclassification: 0.05285481239804246\n",
      "iter: 850, test misclassification: 0.05859375\n",
      "iter: 860, training misclassification: 0.05285481239804246\n",
      "iter: 860, test misclassification: 0.05859375\n",
      "iter: 870, training misclassification: 0.05285481239804246\n",
      "iter: 870, test misclassification: 0.05859375\n",
      "iter: 880, training misclassification: 0.05285481239804246\n",
      "iter: 880, test misclassification: 0.05859375\n",
      "iter: 890, training misclassification: 0.05285481239804246\n",
      "iter: 890, test misclassification: 0.05859375\n",
      "iter: 900, training misclassification: 0.05285481239804246\n",
      "iter: 900, test misclassification: 0.05859375\n",
      "iter: 910, training misclassification: 0.05285481239804246\n",
      "iter: 910, test misclassification: 0.05859375\n",
      "iter: 920, training misclassification: 0.05285481239804246\n",
      "iter: 920, test misclassification: 0.05859375\n",
      "iter: 930, training misclassification: 0.05285481239804246\n",
      "iter: 930, test misclassification: 0.05859375\n",
      "iter: 940, training misclassification: 0.05285481239804246\n",
      "iter: 940, test misclassification: 0.05859375\n",
      "iter: 950, training misclassification: 0.05285481239804246\n",
      "iter: 950, test misclassification: 0.05859375\n",
      "iter: 960, training misclassification: 0.05285481239804246\n",
      "iter: 960, test misclassification: 0.05859375\n",
      "iter: 970, training misclassification: 0.05285481239804246\n",
      "iter: 970, test misclassification: 0.05859375\n",
      "iter: 980, training misclassification: 0.05285481239804246\n",
      "iter: 980, test misclassification: 0.05859375\n",
      "iter: 990, training misclassification: 0.05285481239804246\n",
      "iter: 990, test misclassification: 0.05859375\n"
     ]
    }
   ],
   "source": [
    "[weights, mis_train, mis_test] = train(Xtrain, ytrain, Xtest, ytest, init_weights, 0.1, 1000)"
   ]
  },
  {
   "cell_type": "code",
   "execution_count": 14,
   "metadata": {},
   "outputs": [
    {
     "name": "stdout",
     "output_type": "stream",
     "text": [
      "0.05859375\n"
     ]
    }
   ],
   "source": [
    "print(misclassification(weights, Xtest, ytest))"
   ]
  },
  {
   "cell_type": "code",
   "execution_count": 15,
   "metadata": {},
   "outputs": [
    {
     "data": {
      "image/png": "[encoded data removed]",
      "text/plain": [
       "<Figure size 432x288 with 1 Axes>"
      ]
     },
     "metadata": {
      "needs_background": "light"
     },
     "output_type": "display_data"
    }
   ],
   "source": [
    "fig=plt.figure()\n",
    "plt.plot(mis_train, label='training misclassification rate')\n",
    "plt.plot(mis_test, label='test misclassification rate')\n",
    "plt.legend()\n",
    "plt.show()"
   ]
  },
  {
   "cell_type": "code",
   "execution_count": null,
   "metadata": {},
   "outputs": [],
   "source": []
  }
 ],
 "metadata": {
  "kernelspec": {
   "display_name": "Python 3",
   "language": "python",
   "name": "python3"
  },
  "language_info": {
   "codemirror_mode": {
    "name": "ipython",
    "version": 3
   },
   "file_extension": ".py",
   "mimetype": "text/x-python",
   "name": "python",
   "nbconvert_exporter": "python",
   "pygments_lexer": "ipython3",
   "version": "3.7.2"
  }
 },
 "nbformat": 4,
 "nbformat_minor": 4
}
