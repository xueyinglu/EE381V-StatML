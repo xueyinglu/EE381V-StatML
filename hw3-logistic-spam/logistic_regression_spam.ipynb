{
 "cells": [
  {
   "cell_type": "markdown",
   "metadata": {},
   "source": [
    "## Logistic Regression\n",
    "In this notebook we build a logistic regression model with loss function described in the lecture with  $y\\in\\{+1,-1\\}$"
   ]
  },
  {
   "cell_type": "code",
   "execution_count": 1,
   "metadata": {},
   "outputs": [],
   "source": [
    "import numpy as np\n",
    "import numpy.linalg as la\n",
    "import matplotlib.pyplot as plt\n",
    "import scipy.io as sio\n",
    "data = sio.loadmat('spamData.mat')"
   ]
  },
  {
   "cell_type": "code",
   "execution_count": 2,
   "metadata": {},
   "outputs": [],
   "source": [
    "def logreg_loss(w, X, y):\n",
    "    [m,n]=X.shape\n",
    "    loss = np.sum(np.log(np.exp(- np.dot(X,w)*y)+1))/m\n",
    "    return loss"
   ]
  },
  {
   "cell_type": "code",
   "execution_count": 3,
   "metadata": {},
   "outputs": [],
   "source": [
    "def logreg_grad(w, X, y):\n",
    "    [m,n]=X.shape\n",
    "    numerator = X*y\n",
    "    denominator = np.exp(np.dot(X,w)*y)+1\n",
    "    #print(denominator)\n",
    "    grad = - np.sum(numerator/denominator, axis = 0)/m\n",
    "    grad.reshape((n,1))\n",
    "    return grad.reshape((n,1))"
   ]
  },
  {
   "cell_type": "code",
   "execution_count": 4,
   "metadata": {},
   "outputs": [],
   "source": [
    "def sigmoid(z):\n",
    "    return 1.0/(1+np.exp(-z))"
   ]
  },
  {
   "cell_type": "code",
   "execution_count": 5,
   "metadata": {},
   "outputs": [],
   "source": [
    "def predict(X, w):\n",
    "    z = np.dot(X, w)\n",
    "    return sigmoid(z)"
   ]
  },
  {
   "cell_type": "code",
   "execution_count": 6,
   "metadata": {},
   "outputs": [],
   "source": [
    "def accuracy(predicted_result, actual_result):\n",
    "    diff = predicted_result - actual_result\n",
    "    return 1.0 - (float(np.count_nonzero(diff)) / len(diff))"
   ]
  },
  {
   "cell_type": "code",
   "execution_count": 7,
   "metadata": {},
   "outputs": [],
   "source": [
    "def classify(predictions):\n",
    "    return np.vectorize(lambda prob: 1 if prob >= .5 else -1)(predictions)"
   ]
  },
  {
   "cell_type": "code",
   "execution_count": 8,
   "metadata": {},
   "outputs": [],
   "source": [
    "def misclassification(w, X, y):\n",
    "    [m,n]=X.shape\n",
    "    prediction = predict(X, w)\n",
    "    results = classify(prediction)\n",
    "    return 1 - accuracy(results, y)"
   ]
  },
  {
   "cell_type": "code",
   "execution_count": 9,
   "metadata": {},
   "outputs": [],
   "source": [
    "def grad_descent(Xtrain, ytrain, Xtest, ytest, T, eta):\n",
    "    [m,n] =Xtrain.shape\n",
    "    w =np.zeros((n,1))\n",
    "    mis_train =[]\n",
    "    mis_test =[]\n",
    "    for t in range(T):\n",
    "        grad = logreg_grad(w, Xtrain, ytrain)\n",
    "        #print(grad)\n",
    "        w = w - eta*grad\n",
    "        if (t%10 == 0):\n",
    "            mis_train.append(misclassification(w, Xtrain, ytrain))\n",
    "            mis_test.append(misclassification(w, Xtest, ytest))\n",
    "    return mis_train, mis_test"
   ]
  },
  {
   "cell_type": "code",
   "execution_count": 10,
   "metadata": {},
   "outputs": [],
   "source": [
    "def main():\n",
    "    T =1000\n",
    "    eta =0.1\n",
    "    Xtrain = data['Xtrain']\n",
    "    ytrain = data['ytrain']\n",
    "    Xtest = data['Xtest']\n",
    "    ytest = data['ytest']\n",
    "    Xtrain = np.log(Xtrain +0.1)\n",
    "    Xtest = np.log(Xtest +0.1)\n",
    "    [mtrain, n] = Xtrain.shape\n",
    "    Xtrain = np.insert(Xtrain,[0], np.ones((mtrain,1)),axis = 1)\n",
    "    ytrain = np.int8(ytrain)*2-1\n",
    "    print(ytrain)\n",
    "    [mtest, n]= Xtest.shape\n",
    "    Xtest = np.insert(Xtest,[0], np.ones((mtest,1)),axis = 1)\n",
    "    ytest = np.int8(ytest)*2-1\n",
    "    mis_train,mis_test = grad_descent(Xtrain, ytrain, Xtest, ytest, T, eta)\n",
    "    %matplotlib inline\n",
    "    fig=plt.figure()\n",
    "    plt.plot(mis_train, label='training misclassification rate')\n",
    "    plt.plot(mis_test, label='test misclassification rate')\n",
    "    plt.legend()\n",
    "    plt.show()"
   ]
  },
  {
   "cell_type": "code",
   "execution_count": 11,
   "metadata": {},
   "outputs": [
    {
     "name": "stdout",
     "output_type": "stream",
     "text": [
      "[[ 1]\n",
      " [ 1]\n",
      " [ 1]\n",
      " ...\n",
      " [-1]\n",
      " [-1]\n",
      " [-1]]\n"
     ]
    },
    {
     "data": {
      "image/png": "[encoded data removed]",
      "text/plain": [
       "<Figure size 432x288 with 1 Axes>"
      ]
     },
     "metadata": {
      "needs_background": "light"
     },
     "output_type": "display_data"
    }
   ],
   "source": [
    "if __name__ == \"__main__\":\n",
    "    main()"
   ]
  },
  {
   "cell_type": "code",
   "execution_count": null,
   "metadata": {},
   "outputs": [],
   "source": []
  }
 ],
 "metadata": {
  "kernelspec": {
   "display_name": "Python 3",
   "language": "python",
   "name": "python3"
  },
  "language_info": {
   "codemirror_mode": {
    "name": "ipython",
    "version": 3
   },
   "file_extension": ".py",
   "mimetype": "text/x-python",
   "name": "python",
   "nbconvert_exporter": "python",
   "pygments_lexer": "ipython3",
   "version": "3.7.2"
  }
 },
 "nbformat": 4,
 "nbformat_minor": 2
}
